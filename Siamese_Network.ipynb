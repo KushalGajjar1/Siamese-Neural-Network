{
  "nbformat": 4,
  "nbformat_minor": 0,
  "metadata": {
    "colab": {
      "provenance": [],
      "gpuType": "T4",
      "mount_file_id": "1o7iRyhvMw6klez1-x5abF1xJdOdj4KCe",
      "authorship_tag": "ABX9TyO+Km9V73wE6/QHR5LQ07Rq",
      "include_colab_link": true
    },
    "kernelspec": {
      "name": "python3",
      "display_name": "Python 3"
    },
    "language_info": {
      "name": "python"
    },
    "accelerator": "GPU"
  },
  "cells": [
    {
      "cell_type": "markdown",
      "metadata": {
        "id": "view-in-github",
        "colab_type": "text"
      },
      "source": [
        "<a href=\"https://colab.research.google.com/github/KushalGajjar1/Siamese-Neural-Network/blob/main/Siamese_Network.ipynb\" target=\"_parent\"><img src=\"https://colab.research.google.com/assets/colab-badge.svg\" alt=\"Open In Colab\"/></a>"
      ]
    },
    {
      "cell_type": "code",
      "execution_count": null,
      "metadata": {
        "id": "1Lxq572kLCId"
      },
      "outputs": [],
      "source": [
        "import torch\n",
        "import torch.nn as nn\n",
        "import torch.nn.functional as F\n",
        "from torch.utils.data import Dataset, DataLoader\n",
        "import torchvision\n",
        "from torchvision import transforms\n",
        "\n",
        "import numpy as np\n",
        "from tqdm import tqdm"
      ]
    },
    {
      "cell_type": "code",
      "source": [
        "device = torch.device('cuda:0' if torch.cuda.is_available() else 'cpu')"
      ],
      "metadata": {
        "id": "GkseJzH4LJZu"
      },
      "execution_count": null,
      "outputs": []
    },
    {
      "cell_type": "code",
      "source": [
        "class CustomDataset(Dataset):\n",
        "\n",
        "    def __init__(self, mnist_dataset, transform=None):\n",
        "        self.mnist_dataset = mnist_dataset\n",
        "        self.transform = transform\n",
        "\n",
        "    def __len__(self):\n",
        "        return len(self.mnist_dataset)\n",
        "\n",
        "    def __getitem__(self, index):\n",
        "        img0, label0 = self.mnist_dataset[index]\n",
        "\n",
        "        same_class = np.random.randint(2)\n",
        "\n",
        "        if same_class:\n",
        "            while True:\n",
        "                img1, label1 = self.mnist_dataset[np.random.randint(0, len(self.mnist_dataset)-1)]\n",
        "                if label0 == label1:\n",
        "                    break\n",
        "\n",
        "        else:\n",
        "            while True:\n",
        "                img1, label1 = self.mnist_dataset[np.random.randint(0, len(self.mnist_dataset)-1)]\n",
        "                if label0 != label1:\n",
        "                    break\n",
        "\n",
        "        if self.transform:\n",
        "            img0 = self.transform(img0)\n",
        "            img1 = self.transform(img1)\n",
        "\n",
        "        return img0, img1, torch.tensor(int(label0 != label1), dtype=torch.float32)"
      ],
      "metadata": {
        "id": "M2JJO04-LMn7"
      },
      "execution_count": null,
      "outputs": []
    },
    {
      "cell_type": "code",
      "source": [
        "class CustomDatasetOffice(Dataset):\n",
        "\n",
        "    def __init__(self, data, label, transform=None):\n",
        "        self.data = data\n",
        "        self.label = label\n",
        "        self.transform = transform\n",
        "\n",
        "    def __len__(self):\n",
        "        return self.label.shape[0]\n",
        "\n",
        "    def __getitem__(self, index):\n",
        "        img0 = self.data[index]\n",
        "        label0 = self.label[index]\n",
        "\n",
        "        same_class = np.random.randint(2)\n",
        "\n",
        "        if same_class:\n",
        "            while True:\n",
        "                idx = np.random.randint(0, self.data.shape[0]-1)\n",
        "                img1 = self.data[idx]\n",
        "                label1 = self.label[idx]\n",
        "                if label0 == label1:\n",
        "                    break\n",
        "\n",
        "        else:\n",
        "            while True:\n",
        "                idx = np.random.randint(0, self.data.shape[0]-1)\n",
        "                img1 = self.data[idx]\n",
        "                label1 = self.label[idx]\n",
        "                if label0 != label1:\n",
        "                    break\n",
        "\n",
        "        # if self.transform:\n",
        "        #     img0 = self.transform(img0)\n",
        "        #     img1 = self.transform(img1)\n",
        "\n",
        "\n",
        "\n",
        "        return torch.tensor(img0), torch.tensor(img1), torch.from_numpy(np.array([int(label0 != label1)], dtype=np.float32))\n",
        "        # return img0, img1, torch.from_numpy(np.array([int(label0 != label1)], dtype=np.float32))\n"
      ],
      "metadata": {
        "id": "oSHmZV8oLOu9"
      },
      "execution_count": null,
      "outputs": []
    },
    {
      "cell_type": "code",
      "source": [
        "class ContrastiveLoss(nn.Module):\n",
        "\n",
        "    def __init__(self, margin=2.0):\n",
        "        super().__init__()\n",
        "        self.margin = margin\n",
        "\n",
        "    def forward(self, output1, output2, label):\n",
        "        euclidean_distance = F.pairwise_distance(output1, output2, keepdim=True)\n",
        "        loss_contrastive = torch.mean((1-label)*torch.pow(euclidean_distance, 2) + (label)*torch.pow(torch.clamp(self.margin - euclidean_distance, min=0.0), 2))\n",
        "\n",
        "        return loss_contrastive"
      ],
      "metadata": {
        "id": "KqJjnjJXLRat"
      },
      "execution_count": null,
      "outputs": []
    },
    {
      "cell_type": "code",
      "source": [
        "class Encoder(nn.Module):\n",
        "\n",
        "    def __init__(self):\n",
        "        super().__init__()\n",
        "\n",
        "        self.conv1 = nn.Conv2d(3, 32, kernel_size=3, stride=2, padding=1)\n",
        "        self.conv2 = nn.Conv2d(32, 64, kernel_size=3, stride=2, padding=1)\n",
        "        self.conv3 = nn.Conv2d(64, 128, kernel_size=3, stride=2, padding=1)\n",
        "        self.conv4 = nn.Conv2d(128, 256, kernel_size=3, stride=2, padding=1)\n",
        "        self.fc1 = nn.Linear(256*4*4, 256)\n",
        "        self.fc2 = nn.Linear(256, 128)\n",
        "\n",
        "    def forward(self, x):\n",
        "\n",
        "        layer1 = F.relu(self.conv1(x))\n",
        "        layer2 = F.relu(self.conv2(layer1))\n",
        "        layer3 = F.relu(self.conv3(layer2))\n",
        "        layer4 = self.conv4(layer3)\n",
        "        layer4_p = layer4.view(-1, int(layer4.nelement()/layer4.shape[0]))\n",
        "        layer5 = F.relu(self.fc1(layer4_p))\n",
        "        layer6 = F.relu(self.fc2(layer5))\n",
        "        return layer6"
      ],
      "metadata": {
        "id": "9i-vF6OxLTMs"
      },
      "execution_count": null,
      "outputs": []
    },
    {
      "cell_type": "code",
      "source": [
        "class Network(nn.Module):\n",
        "\n",
        "    def __init__(self, encoder):\n",
        "        super().__init__()\n",
        "        self.encoder = encoder\n",
        "\n",
        "    def forward(self, x1, x2):\n",
        "        output1 = self.encoder(x1)\n",
        "        output2 = self.encoder(x2)\n",
        "        return output1, output2"
      ],
      "metadata": {
        "id": "7X03ZVh2LVG2"
      },
      "execution_count": null,
      "outputs": []
    },
    {
      "cell_type": "code",
      "source": [
        "batchsize = 32"
      ],
      "metadata": {
        "id": "ZX4zNQqvLXAx"
      },
      "execution_count": null,
      "outputs": []
    },
    {
      "cell_type": "code",
      "source": [
        "data_source = np.load('/content/drive/MyDrive/Source/source_data.npy')\n",
        "label_source = np.load('/content/drive/MyDrive/Source/source_label.npy')\n",
        "\n",
        "# data_target = np.load('data/target_data.npy')\n",
        "# label_target = np.load('data/target_label.npy')\n",
        "\n",
        "data_source_norm = data_source / np.max(data_source)\n",
        "# data_target_norm = data_target / np.max(data_target)\n",
        "\n",
        "data_source_tensor_initial = torch.tensor(data_source_norm).float()\n",
        "data_source_tensor = torch.transpose(data_source_tensor_initial, 3, 1)\n",
        "\n",
        "label_source_tensor = torch.tensor(label_source).long()\n",
        "\n",
        "# data_target_tensor_initial = torch.tensor(data_target_norm).float()\n",
        "# data_target_tensor = torch.transpose(data_target_tensor_initial, 3, 1)\n",
        "\n",
        "# label_target_tensor = torch.tensor(label_target).long()\n",
        "\n",
        "train_data = data_source_tensor\n",
        "train_label = label_source_tensor\n",
        "\n",
        "# test_data = data_target_tensor\n",
        "# test_label = label_target_tensor\n",
        "\n",
        "# transform = transforms.Compose([\n",
        "#     transforms.ToTensor()\n",
        "# ])\n",
        "\n",
        "# train_data = CustomDatasetOffice(torch.Tensor.numpy(train_data), torch.Tensor.numpy(train_label), transform=transform)\n",
        "train_data = CustomDatasetOffice(torch.Tensor.numpy(train_data), torch.Tensor.numpy(train_label))\n",
        "\n",
        "\n",
        "dataloader = DataLoader(train_data, batch_size=batchsize, shuffle=True, drop_last=True)"
      ],
      "metadata": {
        "id": "NOnmqY_QLYuY"
      },
      "execution_count": null,
      "outputs": []
    },
    {
      "cell_type": "code",
      "source": [
        "next(iter(dataloader))[0].shape"
      ],
      "metadata": {
        "colab": {
          "base_uri": "https://localhost:8080/"
        },
        "id": "ba0KTXULLaF7",
        "outputId": "5e461818-6966-4f95-9d7a-9d5eb0bfdeee"
      },
      "execution_count": null,
      "outputs": [
        {
          "output_type": "execute_result",
          "data": {
            "text/plain": [
              "torch.Size([32, 3, 64, 64])"
            ]
          },
          "metadata": {},
          "execution_count": 28
        }
      ]
    },
    {
      "cell_type": "code",
      "source": [
        "epochs = 50"
      ],
      "metadata": {
        "id": "D8BRFJvBL2fO"
      },
      "execution_count": null,
      "outputs": []
    },
    {
      "cell_type": "code",
      "source": [
        "encoder = Encoder()\n",
        "model = Network(encoder)\n",
        "\n",
        "criterion = ContrastiveLoss()\n",
        "optimizer = torch.optim.Adam(model.parameters(), lr=0.0001)\n",
        "\n",
        "model.to(device)\n",
        "\n",
        "loss_history = []\n",
        "\n",
        "for epoch in tqdm(range(epochs)):\n",
        "\n",
        "    epoch_loss = []\n",
        "\n",
        "    for img0, img1, label in dataloader:\n",
        "\n",
        "        img0 = img0.to(device)\n",
        "        img1 = img1.to(device)\n",
        "        label = label.to(device)\n",
        "\n",
        "        optimizer.zero_grad()\n",
        "        output1, output2 = model(img0, img1)\n",
        "        loss = criterion(output1, output2, label)\n",
        "        loss.backward()\n",
        "\n",
        "        optimizer.step()\n",
        "\n",
        "        epoch_loss.append(loss.item())\n",
        "\n",
        "    loss_history.append(np.mean(np.array(epoch_loss)))"
      ],
      "metadata": {
        "colab": {
          "base_uri": "https://localhost:8080/"
        },
        "id": "NJLsvWlXL6nt",
        "outputId": "611d6cf7-5c39-4aab-d0a8-0baa9261bc23"
      },
      "execution_count": null,
      "outputs": [
        {
          "output_type": "stream",
          "name": "stderr",
          "text": [
            "100%|██████████| 50/50 [00:05<00:00,  8.75it/s]\n"
          ]
        }
      ]
    },
    {
      "cell_type": "code",
      "source": [
        "loss_history"
      ],
      "metadata": {
        "colab": {
          "base_uri": "https://localhost:8080/"
        },
        "id": "vl5H0RS1L79k",
        "outputId": "b5678d73-e686-4db9-c29c-cf91f89ac0bc"
      },
      "execution_count": null,
      "outputs": [
        {
          "output_type": "execute_result",
          "data": {
            "text/plain": [
              "[1.692101891224201,\n",
              " 1.1597495675086975,\n",
              " 1.0328848316119268,\n",
              " 0.9660993218421936,\n",
              " 1.0023952447451079,\n",
              " 0.8978409721301153,\n",
              " 0.8470766452642587,\n",
              " 0.9910725125899682,\n",
              " 0.882320564526778,\n",
              " 0.9516353882276095,\n",
              " 0.8627420159486624,\n",
              " 0.7909680880033053,\n",
              " 0.7555883389252883,\n",
              " 0.7554859564854548,\n",
              " 0.7713319063186646,\n",
              " 0.7060986207081721,\n",
              " 0.612116699035351,\n",
              " 0.5164797306060791,\n",
              " 0.5501061655007876,\n",
              " 0.5283873677253723,\n",
              " 0.508529917551921,\n",
              " 0.4466073971528273,\n",
              " 0.4909911820521721,\n",
              " 0.4172105903808887,\n",
              " 0.39559943400896513,\n",
              " 0.4012790872500493,\n",
              " 0.3801728578714224,\n",
              " 0.3790355519606517,\n",
              " 0.3521457199866955,\n",
              " 0.33548829417962295,\n",
              " 0.29831865200629604,\n",
              " 0.3392949069921787,\n",
              " 0.26507878188903516,\n",
              " 0.2822979104060393,\n",
              " 0.2342694986325044,\n",
              " 0.20906077783841354,\n",
              " 0.24810896584620842,\n",
              " 0.20072853106718797,\n",
              " 0.1740279455597584,\n",
              " 0.14728253334760666,\n",
              " 0.15751840288822466,\n",
              " 0.1558479592204094,\n",
              " 0.1292335385313401,\n",
              " 0.13675192055793908,\n",
              " 0.08847684929004082,\n",
              " 0.09817819325969769,\n",
              " 0.08351547930103081,\n",
              " 0.08026686482704602,\n",
              " 0.07840924423474532,\n",
              " 0.08017560352499668]"
            ]
          },
          "metadata": {},
          "execution_count": 34
        }
      ]
    },
    {
      "cell_type": "code",
      "source": [
        "model.to('cpu')\n",
        "torch.save(model.state_dict(), 'network.pt')"
      ],
      "metadata": {
        "id": "St1kD_4fXAog"
      },
      "execution_count": null,
      "outputs": []
    },
    {
      "cell_type": "code",
      "source": [],
      "metadata": {
        "id": "dLBaa05GbWwm"
      },
      "execution_count": null,
      "outputs": []
    }
  ]
}